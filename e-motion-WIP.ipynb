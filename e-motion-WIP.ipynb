{
 "cells": [
  {
   "cell_type": "code",
   "execution_count": null,
   "id": "694978b0",
   "metadata": {},
   "outputs": [],
   "source": [
    "import gradio as gr\n",
    "import numpy as np\n",
    "from scipy.special import softmax\n",
    "from transformers import (\n",
    "    AutoConfig,\n",
    "    AutoModelForSequenceClassification,\n",
    "    AutoTokenizer,\n",
    ")\n",
    "\n",
    "MODEL = f\"cardiffnlp/twitter-roberta-base-sentiment-latest\"\n",
    "tokenizer = AutoTokenizer.from_pretrained(MODEL)\n",
    "config = AutoConfig.from_pretrained(MODEL)\n",
    "model = AutoModelForSequenceClassification.from_pretrained(MODEL)\n",
    "\n",
    "\n",
    "def preprocess(text):\n",
    "    new_text = []\n",
    "    for t in text.split(\" \"):\n",
    "        t = \"@user\" if t.startswith(\"@\") and len(t) > 1 else t\n",
    "        t = \"http\" if t.startswith(\"http\") else t\n",
    "        new_text.append(t)\n",
    "    return \" \".join(new_text)\n",
    "\n",
    "\n",
    "def predict(text):\n",
    "    text = preprocess(text)\n",
    "    encoded_input = tokenizer(text, return_tensors=\"pt\")\n",
    "    output = model(**encoded_input)\n",
    "    scores = output[0][0].detach().numpy()\n",
    "    scores = softmax(scores)\n",
    "    ranking = np.argsort(scores)\n",
    "    ranking = ranking[::-1]\n",
    "    result_data = []\n",
    "    for i in range(scores.shape[0]):\n",
    "        l = config.id2label[ranking[i]]\n",
    "        s = scores[ranking[i]]\n",
    "        max_index = np.argmax(scores[ranking[i]])\n",
    "        max_label = config.id2label[ranking[max_index]]\n",
    "        result_data.append(f\"{i+1}) {l} {np.round(float(s), 3)}\")\n",
    "\n",
    "        if max_label == \"negative\":\n",
    "            response = \"😟 - It's a toxic message. It can impact your mental health.\"\n",
    "        elif max_label == \"positive\":\n",
    "            response = \"😊 - It's positive message. All should be fine with reading this message.\"\n",
    "        else:\n",
    "            response = \"😐 - This seems to be a neutral message. It's hard for me to rate this message if it's either good or bad.\"\n",
    "\n",
    "    return \"\\n\".join(result_data), response"
   ]
  },
  {
   "cell_type": "code",
   "execution_count": null,
   "id": "f30bc6c7",
   "metadata": {},
   "outputs": [],
   "source": [
    "demo = gr.Interface(fn=predict, inputs=\"text\", outputs=[\"text\", \"text\"])\n",
    "\n",
    "if __name__ == \"__main__\":\n",
    "    demo.launch(share=True, inbrowser=True)"
   ]
  }
 ],
 "metadata": {
  "kernelspec": {
   "display_name": "Python 3 (ipykernel)",
   "language": "python",
   "name": "python3"
  },
  "language_info": {
   "codemirror_mode": {
    "name": "ipython",
    "version": 3
   },
   "file_extension": ".py",
   "mimetype": "text/x-python",
   "name": "python",
   "nbconvert_exporter": "python",
   "pygments_lexer": "ipython3",
   "version": "3.10.9"
  }
 },
 "nbformat": 4,
 "nbformat_minor": 5
}
